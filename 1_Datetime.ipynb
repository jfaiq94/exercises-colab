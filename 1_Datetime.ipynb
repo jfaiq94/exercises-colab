{
  "nbformat": 4,
  "nbformat_minor": 0,
  "metadata": {
    "colab": {
      "name": "1 - Datetime.ipynb",
      "provenance": [],
      "authorship_tag": "ABX9TyPJ7fSRqbnfrOeaLzLwZJmk",
      "include_colab_link": true
    },
    "kernelspec": {
      "name": "python3",
      "display_name": "Python 3"
    },
    "language_info": {
      "name": "python"
    }
  },
  "cells": [
    {
      "cell_type": "markdown",
      "metadata": {
        "id": "view-in-github",
        "colab_type": "text"
      },
      "source": [
        "<a href=\"https://colab.research.google.com/github/jfaiq94/exercises-colab/blob/main/1_Datetime.ipynb\" target=\"_parent\"><img src=\"https://colab.research.google.com/assets/colab-badge.svg\" alt=\"Open In Colab\"/></a>"
      ]
    },
    {
      "cell_type": "markdown",
      "source": [
        "# Exercise 1\n",
        "\n",
        "Using the built-in datetime module, create date object for the given dates:\n",
        "\n",
        "* 2021-01-01\n",
        "* 31/7/21\n",
        "* May 7, 1990\n",
        "\n",
        "Then print these objects to the console.\n",
        "\n",
        "**Expected Results:**\n",
        "\n",
        "* 2021-01-01\n",
        "* 2021-07-31\n",
        "* 1990-05-07\n",
        "\n"
      ],
      "metadata": {
        "id": "Fvh5NgSvgTMb"
      }
    },
    {
      "cell_type": "code",
      "source": [
        "import datetime"
      ],
      "metadata": {
        "id": "MQU28nczg_Kh"
      },
      "execution_count": 1,
      "outputs": []
    },
    {
      "cell_type": "code",
      "source": [
        "d1 = datetime.date(2021, 1, 1)\n",
        "d2 = datetime.date(2021, 7, 31)\n",
        "d3 = datetime.date(1990, 5, 7)"
      ],
      "metadata": {
        "id": "niYZZyiOhOqk"
      },
      "execution_count": 4,
      "outputs": []
    },
    {
      "cell_type": "code",
      "source": [
        "print(d1)\n",
        "print(d2)\n",
        "print(d3)"
      ],
      "metadata": {
        "colab": {
          "base_uri": "https://localhost:8080/"
        },
        "id": "T9ODsQpbhli7",
        "outputId": "009c9189-a6e9-4c3b-871d-4ba95b7880e3"
      },
      "execution_count": 5,
      "outputs": [
        {
          "output_type": "stream",
          "name": "stdout",
          "text": [
            "2021-01-01\n",
            "2021-07-31\n",
            "1990-05-07\n"
          ]
        }
      ]
    },
    {
      "cell_type": "markdown",
      "source": [
        "# Exercise 2\n",
        "\n",
        "Using the built-in datetime module, create time objects for the given hours:\n",
        "\n",
        "* 12:00:00\n",
        "* 6:30:00\n",
        "* 9:15:00\n",
        "\n",
        "Then print these objects to the console.\n",
        "\n",
        "**Expected Results**\n",
        "* 12:00:00\n",
        "* 06:30:00\n",
        "* 09:15:00"
      ],
      "metadata": {
        "id": "x3ZP6PrkiEBd"
      }
    },
    {
      "cell_type": "code",
      "source": [
        "import datetime"
      ],
      "metadata": {
        "id": "FTX41RdEib7g"
      },
      "execution_count": 6,
      "outputs": []
    },
    {
      "cell_type": "code",
      "source": [
        "t1 = datetime.time(12, 0, 0)\n",
        "t2 = datetime.time(6, 30, 0)\n",
        "t3 = datetime.time(9, 15, 0)"
      ],
      "metadata": {
        "id": "NBFwISaeihTj"
      },
      "execution_count": 7,
      "outputs": []
    },
    {
      "cell_type": "code",
      "source": [
        "print(t1)\n",
        "print(t2)\n",
        "print(t3)"
      ],
      "metadata": {
        "colab": {
          "base_uri": "https://localhost:8080/"
        },
        "id": "SBPXsgiEiwTT",
        "outputId": "ceb86f90-d026-4a78-d190-6783b3b01547"
      },
      "execution_count": 8,
      "outputs": [
        {
          "output_type": "stream",
          "name": "stdout",
          "text": [
            "12:00:00\n",
            "06:30:00\n",
            "09:15:00\n"
          ]
        }
      ]
    },
    {
      "cell_type": "markdown",
      "source": [
        "# Exercise 3\n",
        "\n",
        "Using the built-in datetime module, create datetime objects for the given dates:\n",
        "\n",
        "* Jul 20 2020 11:30:00\n",
        "* 1990-03-10 12:00:00\n",
        "* 2021-01-01 00:00:00\n",
        "\n",
        "**Expected Results**\n",
        "\n",
        "* 2020-07-20 11:30:00\n",
        "* 1990-03-10 12:00:00\n",
        "* 2021-01-01 00:00:00"
      ],
      "metadata": {
        "id": "rdIpSzQUjJTO"
      }
    },
    {
      "cell_type": "code",
      "source": [
        "import datetime\n",
        "\n",
        "dt1 = datetime.datetime(2020, 7, 20, 11, 30, 0)\n",
        "dt2 = datetime.datetime(1990, 3, 10, 12, 0, 0)\n",
        "dt3 = datetime.datetime(2021, 1, 1)\n",
        "\n",
        "print(dt1)\n",
        "print(dt2)\n",
        "print(dt3)"
      ],
      "metadata": {
        "colab": {
          "base_uri": "https://localhost:8080/"
        },
        "id": "feoHbeRsjeVI",
        "outputId": "47f55677-3586-433c-94c1-f91667b1d3c8"
      },
      "execution_count": 9,
      "outputs": [
        {
          "output_type": "stream",
          "name": "stdout",
          "text": [
            "2020-07-20 11:30:00\n",
            "1990-03-10 12:00:00\n",
            "2021-01-01 00:00:00\n"
          ]
        }
      ]
    },
    {
      "cell_type": "markdown",
      "source": [
        "# Exercise 4\n",
        "\n",
        "Using the built-in datetime module, determine the number of days between 2020-07-21 and 2020-12-31\n",
        "\n",
        "**Expected Result**\n",
        "\n",
        "Number of days: 163"
      ],
      "metadata": {
        "id": "cmzN_PFEkCy6"
      }
    },
    {
      "cell_type": "code",
      "source": [
        "import datetime\n",
        "\n",
        "str_d1 = \"2020-07-21\"\n",
        "str_d2 = \"2020-12-31\"\n",
        "\n",
        "d1 = datetime.datetime.strptime(str_d1, \"%Y-%m-%d\")\n",
        "d2 = datetime.datetime.strptime(str_d2, \"%Y-%m-%d\")\n",
        "\n",
        "delta = d2 - d1\n",
        "\n",
        "print(f\"Number of days: {delta.days}\")"
      ],
      "metadata": {
        "colab": {
          "base_uri": "https://localhost:8080/"
        },
        "id": "cQpGFQvLkP9L",
        "outputId": "47c459fe-7dbf-4000-b2b9-03ae2eafb245"
      },
      "execution_count": 27,
      "outputs": [
        {
          "output_type": "stream",
          "name": "stdout",
          "text": [
            "Number of days: 163\n"
          ]
        }
      ]
    }
  ]
}