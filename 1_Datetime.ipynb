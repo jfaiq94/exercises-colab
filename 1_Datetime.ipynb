{
  "nbformat": 4,
  "nbformat_minor": 0,
  "metadata": {
    "colab": {
      "name": "1 - Datetime.ipynb",
      "provenance": [],
      "authorship_tag": "ABX9TyMy4eop+dfdZP394J1R3dSI",
      "include_colab_link": true
    },
    "kernelspec": {
      "name": "python3",
      "display_name": "Python 3"
    },
    "language_info": {
      "name": "python"
    }
  },
  "cells": [
    {
      "cell_type": "markdown",
      "metadata": {
        "id": "view-in-github",
        "colab_type": "text"
      },
      "source": [
        "<a href=\"https://colab.research.google.com/github/jfaiq94/exercises-colab/blob/main/1_Datetime.ipynb\" target=\"_parent\"><img src=\"https://colab.research.google.com/assets/colab-badge.svg\" alt=\"Open In Colab\"/></a>"
      ]
    },
    {
      "cell_type": "markdown",
      "source": [
        "# Datetime Exercises"
      ],
      "metadata": {
        "id": "gZdXFzKzZBXP"
      }
    },
    {
      "cell_type": "markdown",
      "source": [
        "### Exercise 1\n",
        "\n",
        "Using the built-in datetime module, create date object for the given dates:\n",
        "\n",
        "* 2021-01-01\n",
        "* 31/7/21\n",
        "* May 7, 1990\n",
        "\n",
        "Then print these objects to the console.\n",
        "\n",
        "**Expected Results:**\n",
        "\n",
        "* 2021-01-01\n",
        "* 2021-07-31\n",
        "* 1990-05-07\n",
        "\n"
      ],
      "metadata": {
        "id": "Fvh5NgSvgTMb"
      }
    },
    {
      "cell_type": "code",
      "source": [
        "import datetime"
      ],
      "metadata": {
        "id": "MQU28nczg_Kh"
      },
      "execution_count": null,
      "outputs": []
    },
    {
      "cell_type": "code",
      "source": [
        "d1 = datetime.date(2021, 1, 1)\n",
        "d2 = datetime.date(2021, 7, 31)\n",
        "d3 = datetime.date(1990, 5, 7)"
      ],
      "metadata": {
        "id": "niYZZyiOhOqk"
      },
      "execution_count": null,
      "outputs": []
    },
    {
      "cell_type": "code",
      "source": [
        "print(d1)\n",
        "print(d2)\n",
        "print(d3)"
      ],
      "metadata": {
        "colab": {
          "base_uri": "https://localhost:8080/"
        },
        "id": "T9ODsQpbhli7",
        "outputId": "009c9189-a6e9-4c3b-871d-4ba95b7880e3"
      },
      "execution_count": null,
      "outputs": [
        {
          "output_type": "stream",
          "name": "stdout",
          "text": [
            "2021-01-01\n",
            "2021-07-31\n",
            "1990-05-07\n"
          ]
        }
      ]
    },
    {
      "cell_type": "markdown",
      "source": [
        "### Exercise 2\n",
        "\n",
        "Using the built-in datetime module, create time objects for the given hours:\n",
        "\n",
        "* 12:00:00\n",
        "* 6:30:00\n",
        "* 9:15:00\n",
        "\n",
        "Then print these objects to the console.\n",
        "\n",
        "**Expected Results**\n",
        "* 12:00:00\n",
        "* 06:30:00\n",
        "* 09:15:00"
      ],
      "metadata": {
        "id": "x3ZP6PrkiEBd"
      }
    },
    {
      "cell_type": "code",
      "source": [
        "import datetime"
      ],
      "metadata": {
        "id": "FTX41RdEib7g"
      },
      "execution_count": null,
      "outputs": []
    },
    {
      "cell_type": "code",
      "source": [
        "t1 = datetime.time(12, 0, 0)\n",
        "t2 = datetime.time(6, 30, 0)\n",
        "t3 = datetime.time(9, 15, 0)"
      ],
      "metadata": {
        "id": "NBFwISaeihTj"
      },
      "execution_count": null,
      "outputs": []
    },
    {
      "cell_type": "code",
      "source": [
        "print(t1)\n",
        "print(t2)\n",
        "print(t3)"
      ],
      "metadata": {
        "colab": {
          "base_uri": "https://localhost:8080/"
        },
        "id": "SBPXsgiEiwTT",
        "outputId": "ceb86f90-d026-4a78-d190-6783b3b01547"
      },
      "execution_count": null,
      "outputs": [
        {
          "output_type": "stream",
          "name": "stdout",
          "text": [
            "12:00:00\n",
            "06:30:00\n",
            "09:15:00\n"
          ]
        }
      ]
    },
    {
      "cell_type": "markdown",
      "source": [
        "### Exercise 3\n",
        "\n",
        "Using the built-in datetime module, create datetime objects for the given dates:\n",
        "\n",
        "* Jul 20 2020 11:30:00\n",
        "* 1990-03-10 12:00:00\n",
        "* 2021-01-01 00:00:00\n",
        "\n",
        "**Expected Results**\n",
        "\n",
        "* 2020-07-20 11:30:00\n",
        "* 1990-03-10 12:00:00\n",
        "* 2021-01-01 00:00:00"
      ],
      "metadata": {
        "id": "rdIpSzQUjJTO"
      }
    },
    {
      "cell_type": "code",
      "source": [
        "import datetime\n",
        "\n",
        "dt1 = datetime.datetime(2020, 7, 20, 11, 30, 0)\n",
        "dt2 = datetime.datetime(1990, 3, 10, 12, 0, 0)\n",
        "dt3 = datetime.datetime(2021, 1, 1)\n",
        "\n",
        "print(dt1)\n",
        "print(dt2)\n",
        "print(dt3)"
      ],
      "metadata": {
        "colab": {
          "base_uri": "https://localhost:8080/"
        },
        "id": "feoHbeRsjeVI",
        "outputId": "47f55677-3586-433c-94c1-f91667b1d3c8"
      },
      "execution_count": null,
      "outputs": [
        {
          "output_type": "stream",
          "name": "stdout",
          "text": [
            "2020-07-20 11:30:00\n",
            "1990-03-10 12:00:00\n",
            "2021-01-01 00:00:00\n"
          ]
        }
      ]
    },
    {
      "cell_type": "markdown",
      "source": [
        "### Exercise 4\n",
        "\n",
        "Using the built-in datetime module, determine the number of days between 2020-07-21 and 2020-12-31\n",
        "\n",
        "**Expected Result**\n",
        "\n",
        "Number of days: 163"
      ],
      "metadata": {
        "id": "cmzN_PFEkCy6"
      }
    },
    {
      "cell_type": "code",
      "source": [
        "import datetime\n",
        "\n",
        "str_d1 = \"2020-07-21\"\n",
        "str_d2 = \"2020-12-31\"\n",
        "\n",
        "d1 = datetime.datetime.strptime(str_d1, \"%Y-%m-%d\")\n",
        "d2 = datetime.datetime.strptime(str_d2, \"%Y-%m-%d\")\n",
        "\n",
        "delta = d2 - d1\n",
        "\n",
        "print(f\"Number of days: {delta.days}\")"
      ],
      "metadata": {
        "colab": {
          "base_uri": "https://localhost:8080/"
        },
        "id": "cQpGFQvLkP9L",
        "outputId": "47c459fe-7dbf-4000-b2b9-03ae2eafb245"
      },
      "execution_count": null,
      "outputs": [
        {
          "output_type": "stream",
          "name": "stdout",
          "text": [
            "Number of days: 163\n"
          ]
        }
      ]
    },
    {
      "cell_type": "markdown",
      "source": [
        "### Exercise 5\n",
        "\n",
        "Determine the exact time elapsed between the dates:\n",
        "\n",
        "* Jul 20 2020 11:30:00\n",
        "* 2021-02-20 10:25:00\n",
        "\n",
        "**Expected Result**\n",
        "214 days, 22:55:00"
      ],
      "metadata": {
        "id": "cBy5sCzTZbk-"
      }
    },
    {
      "cell_type": "code",
      "source": [
        "import datetime\n",
        "\n",
        "dt1 = datetime.datetime(2020, 7, 20, 11, 30, 0)\n",
        "dt2 = datetime.datetime(2021, 2, 20, 10, 25, 0)\n",
        "\n",
        "delta = dt2 - dt1\n",
        "\n",
        "print(delta)"
      ],
      "metadata": {
        "colab": {
          "base_uri": "https://localhost:8080/"
        },
        "id": "nk0-a81rZpZm",
        "outputId": "9e845ba2-e59b-414d-f751-8c4134f0ea43"
      },
      "execution_count": null,
      "outputs": [
        {
          "output_type": "stream",
          "name": "stdout",
          "text": [
            "214 days, 22:55:00\n"
          ]
        }
      ]
    },
    {
      "cell_type": "markdown",
      "source": [
        "## Exercise 6\n",
        "\n",
        "Using the datetime.datetime.strftime() method format the following date\n",
        "\n",
        "2021-04-20 11:30:00\n",
        "\n",
        "**Expected Results**\n",
        "\n",
        "* 2021-04-20\n",
        "* 20-04-2021\n",
        "* 04-2021\n",
        "* April-2021\n",
        "* 20 April, 2021\n",
        "* 2021-04-20 11:30:00\n",
        "* 04/20/21 11:30:00\n",
        "* 20(Tue) April 2021"
      ],
      "metadata": {
        "id": "EGjzPmztxJfl"
      }
    },
    {
      "cell_type": "code",
      "source": [
        "import datetime"
      ],
      "metadata": {
        "id": "ZP720VYOZ1e-"
      },
      "execution_count": 1,
      "outputs": []
    },
    {
      "cell_type": "code",
      "source": [
        "dt = datetime.datetime(2021, 4, 20, 11, 30, 0)\n",
        "print(dt)"
      ],
      "metadata": {
        "colab": {
          "base_uri": "https://localhost:8080/"
        },
        "id": "GdMmoWk0xvU2",
        "outputId": "12efbc50-e7cc-4a79-966c-7eb71089b4ed"
      },
      "execution_count": 2,
      "outputs": [
        {
          "output_type": "stream",
          "name": "stdout",
          "text": [
            "2021-04-20 11:30:00\n"
          ]
        }
      ]
    },
    {
      "cell_type": "code",
      "source": [
        "print(dt.strftime(\"%Y-%m-%d\"))\n",
        "print(dt.strftime(\"%d-%m-%Y\"))\n",
        "print(dt.strftime(\"%m-%Y\"))\n",
        "print(dt.strftime(\"%B-%Y\"))\n",
        "print(dt.strftime(\"%d %B, %Y\"))\n",
        "print(dt.strftime(\"%Y-%m-%d %H:%M:%S\"))\n",
        "print(dt.strftime(\"%d/%m/%y %H:%M:%S\"))\n",
        "print(dt.strftime(\"%d(%a) %B %Y\"))"
      ],
      "metadata": {
        "colab": {
          "base_uri": "https://localhost:8080/"
        },
        "id": "ichlsWejx4MV",
        "outputId": "60f8117b-6c19-4ff1-d460-57f79d89f780"
      },
      "execution_count": 15,
      "outputs": [
        {
          "output_type": "stream",
          "name": "stdout",
          "text": [
            "2021-04-20\n",
            "20-04-2021\n",
            "04-2021\n",
            "April-2021\n",
            "20 April, 2021\n",
            "2021-04-20 11:30:00\n",
            "20/04/21 11:30:00\n",
            "20(Tue) April 2021\n"
          ]
        }
      ]
    },
    {
      "cell_type": "markdown",
      "source": [
        "## Exercise 7\n",
        "\n",
        "datetime.datetime.strptime(), parse the following *str* objects:\n",
        "\n",
        "* date_str_1 = '3 March 1995'\n",
        "* date_str_2 = '3/9/1995'\n",
        "* date_str_3 = '21-07-2021'\n",
        "\n",
        "**Expected Results**\n",
        "\n",
        "* 1995-03-03 00:00:00\n",
        "* 1995-09-03 00:00:00\n",
        "* 2021-07-21 00:00:00"
      ],
      "metadata": {
        "id": "ArtlQRGezdD-"
      }
    },
    {
      "cell_type": "code",
      "source": [
        "from datetime import datetime"
      ],
      "metadata": {
        "id": "Ji2rHjdByI6G"
      },
      "execution_count": 16,
      "outputs": []
    },
    {
      "cell_type": "code",
      "source": [
        "date_str_1 = \"3 March 1995\"\n",
        "date_str_2 = \"3/9/1995\"\n",
        "date_str_3 = \"21-07-2021\""
      ],
      "metadata": {
        "id": "t0H-WZ0Zz87d"
      },
      "execution_count": 17,
      "outputs": []
    },
    {
      "cell_type": "code",
      "source": [
        "d1 = datetime.strptime(date_str_1, \"%d %B %Y\")\n",
        "d2 = datetime.strptime(date_str_2, \"%d/%m/%Y\")\n",
        "d3 = datetime.strptime(date_str_3, \"%d-%m-%Y\")"
      ],
      "metadata": {
        "id": "xhixv_bI0E0V"
      },
      "execution_count": 18,
      "outputs": []
    },
    {
      "cell_type": "code",
      "source": [
        "print(d1)\n",
        "print(d2)\n",
        "print(d3)"
      ],
      "metadata": {
        "colab": {
          "base_uri": "https://localhost:8080/"
        },
        "id": "q_KI-KOE0T2F",
        "outputId": "b5ea52c1-46c9-418f-d727-da8195a2d54a"
      },
      "execution_count": 19,
      "outputs": [
        {
          "output_type": "stream",
          "name": "stdout",
          "text": [
            "1995-03-03 00:00:00\n",
            "1995-09-03 00:00:00\n",
            "2021-07-21 00:00:00\n"
          ]
        }
      ]
    },
    {
      "cell_type": "markdown",
      "source": [
        "## Exercise 8\n",
        "\n",
        "Calculate the number of days until the end of year\n",
        "\n",
        "**Expected Results**\n",
        "\n",
        "* \"Number of days until the end of the year: x\""
      ],
      "metadata": {
        "id": "VMVmGyds0iXv"
      }
    },
    {
      "cell_type": "code",
      "source": [
        "import datetime"
      ],
      "metadata": {
        "id": "jnyCjGEe0VbE"
      },
      "execution_count": 20,
      "outputs": []
    },
    {
      "cell_type": "code",
      "source": [
        "today = datetime.date.today()\n",
        "print(today)"
      ],
      "metadata": {
        "colab": {
          "base_uri": "https://localhost:8080/"
        },
        "id": "wWkyzWXk0yp1",
        "outputId": "28981829-5c33-4e82-e7ad-c67bc5431429"
      },
      "execution_count": 21,
      "outputs": [
        {
          "output_type": "stream",
          "name": "stdout",
          "text": [
            "2022-06-18\n"
          ]
        }
      ]
    },
    {
      "cell_type": "code",
      "source": [
        "end_of_year = datetime.date(today.year, 12, 31)\n",
        "print(end_of_year)"
      ],
      "metadata": {
        "colab": {
          "base_uri": "https://localhost:8080/"
        },
        "id": "5dJ5KByj01gc",
        "outputId": "d25ef238-2864-4069-827d-388b83fc8e32"
      },
      "execution_count": 22,
      "outputs": [
        {
          "output_type": "stream",
          "name": "stdout",
          "text": [
            "2022-12-31\n"
          ]
        }
      ]
    },
    {
      "cell_type": "code",
      "source": [
        "delta = end_of_year - today\n",
        "print(delta)"
      ],
      "metadata": {
        "colab": {
          "base_uri": "https://localhost:8080/"
        },
        "id": "aC8hJYgW0621",
        "outputId": "c53874be-2983-4ed4-c42b-ad5b89ed68dd"
      },
      "execution_count": 23,
      "outputs": [
        {
          "output_type": "stream",
          "name": "stdout",
          "text": [
            "196 days, 0:00:00\n"
          ]
        }
      ]
    },
    {
      "cell_type": "code",
      "source": [
        "print(f\"Number of days until the end of the year: {delta.days}\")"
      ],
      "metadata": {
        "colab": {
          "base_uri": "https://localhost:8080/"
        },
        "id": "9r_TcMfU0_vF",
        "outputId": "c5575eb1-ae68-4df2-846f-6908ba4d6fe8"
      },
      "execution_count": 24,
      "outputs": [
        {
          "output_type": "stream",
          "name": "stdout",
          "text": [
            "Number of days until the end of the year: 196\n"
          ]
        }
      ]
    },
    {
      "cell_type": "markdown",
      "source": [
        "## Exercise 9\n",
        "\n",
        "Calcualte the exact time remaining until the end of the current year\n",
        "\n",
        "**Expected Results**\n",
        "* \"Until the end of the year: x\""
      ],
      "metadata": {
        "id": "bdxH5fzQ1Llf"
      }
    },
    {
      "cell_type": "code",
      "source": [
        "import datetime"
      ],
      "metadata": {
        "id": "T1QVsyiK1EvN"
      },
      "execution_count": 25,
      "outputs": []
    },
    {
      "cell_type": "code",
      "source": [
        "now = datetime.datetime.now()\n",
        "print(now)"
      ],
      "metadata": {
        "colab": {
          "base_uri": "https://localhost:8080/"
        },
        "id": "CufMKaS-1cvl",
        "outputId": "844962b9-82c9-4b30-d17f-a24e42cfece9"
      },
      "execution_count": 27,
      "outputs": [
        {
          "output_type": "stream",
          "name": "stdout",
          "text": [
            "2022-06-18 22:01:38.729877\n"
          ]
        }
      ]
    },
    {
      "cell_type": "code",
      "source": [
        "end_of_year = datetime.datetime(now.year + 1, 1, 1)\n",
        "print(end_of_year)"
      ],
      "metadata": {
        "colab": {
          "base_uri": "https://localhost:8080/"
        },
        "id": "_Kr630GN1ek9",
        "outputId": "68ba6d08-c41c-493f-a36d-470607bbabe0"
      },
      "execution_count": 31,
      "outputs": [
        {
          "output_type": "stream",
          "name": "stdout",
          "text": [
            "2023-01-01 00:00:00\n"
          ]
        }
      ]
    },
    {
      "cell_type": "code",
      "source": [
        "delta = end_of_year - now\n",
        "print(f\"Until the end of the year: {delta}\")"
      ],
      "metadata": {
        "colab": {
          "base_uri": "https://localhost:8080/"
        },
        "id": "OOeg-Z7f1n00",
        "outputId": "ce3a12c4-f375-46de-e0d9-3bc7df4e7eb7"
      },
      "execution_count": 33,
      "outputs": [
        {
          "output_type": "stream",
          "name": "stdout",
          "text": [
            "Until the end of the year: 196 days, 1:58:21.270123\n"
          ]
        }
      ]
    },
    {
      "cell_type": "markdown",
      "source": [
        "## Exercise 10\n",
        "\n",
        "Use the date and timedelta classes from the given date \"2020-01-01 00:00:00 to get the date:\n",
        "\n",
        "* shifted by 7 days\n",
        "* shifted by 30 days\n",
        "* shifted by 30 hours\n",
        "* shifted by 15 minutes\n",
        "\n",
        "**Expected Results**\n",
        "\n",
        "* 2020-01-08 00:00:00\n",
        "* 2020-01-31 00:00:00\n",
        "* 2020-01-02 06:00:00\n",
        "* 2020-01-01 00:15:00"
      ],
      "metadata": {
        "id": "aljpjkwI2UrC"
      }
    },
    {
      "cell_type": "code",
      "source": [
        "import datetime"
      ],
      "metadata": {
        "id": "lyRuW4wr11os"
      },
      "execution_count": 34,
      "outputs": []
    },
    {
      "cell_type": "code",
      "source": [
        "dt = datetime.datetime(2020, 1, 1)\n",
        "print(dt)"
      ],
      "metadata": {
        "colab": {
          "base_uri": "https://localhost:8080/"
        },
        "id": "HdhhNPPo25q8",
        "outputId": "6849711f-abaf-46a1-949f-c428ab258a9c"
      },
      "execution_count": 35,
      "outputs": [
        {
          "output_type": "stream",
          "name": "stdout",
          "text": [
            "2020-01-01 00:00:00\n"
          ]
        }
      ]
    },
    {
      "cell_type": "code",
      "source": [
        "print(dt + datetime.timedelta(days=7))\n",
        "print(dt + datetime.timedelta(days=30))\n",
        "print(dt + datetime.timedelta(hours=30))\n",
        "print(dt + datetime.timedelta(minutes=15))"
      ],
      "metadata": {
        "colab": {
          "base_uri": "https://localhost:8080/"
        },
        "id": "65RXznH929xf",
        "outputId": "a37e162e-720d-45da-c43f-2c93f5adb70e"
      },
      "execution_count": 37,
      "outputs": [
        {
          "output_type": "stream",
          "name": "stdout",
          "text": [
            "2020-01-08 00:00:00\n",
            "2020-01-31 00:00:00\n",
            "2020-01-02 06:00:00\n",
            "2020-01-01 00:15:00\n"
          ]
        }
      ]
    },
    {
      "cell_type": "markdown",
      "source": [
        "## Exercise 11\n",
        "\n",
        "Using the datetime and timedelta classes create the given list of dates and assign to variable *dates* from \"2020-01-01 00:00:00\", end on \"2020-01-04 16:00:00\" and differ by 8h. Print the results in the console.\n",
        "\n",
        "**Expected Result**\n",
        "* 2020-01-01 00:00:00\n",
        "* 2020-01-01 08:00:00\n",
        "* 2020-01-01 16:00:00\n",
        "* 2020-01-02 00:00:00\n",
        "* 2020-01-02 08:00:00\n",
        "* 2020-01-02 16:00:00\n",
        "* 2020-01-03 00:00:00\n",
        "* 2020-01-03 08:00:00\n",
        "* 2020-01-03 16:00:00\n",
        "* 2020-01-04 00:00:00\n",
        "* 2020-01-04 08:00:00\n",
        "* 2020-01-04 16:00:00"
      ],
      "metadata": {
        "id": "xIUFm1Yb3ZKg"
      }
    },
    {
      "cell_type": "code",
      "source": [
        "import datetime"
      ],
      "metadata": {
        "id": "B5kJmHGP3B_j"
      },
      "execution_count": 38,
      "outputs": []
    },
    {
      "cell_type": "code",
      "source": [
        "d1 = datetime.datetime(2020, 1, 1)\n",
        "d2 = datetime.datetime(2020, 1, 4, 16, 0, 0)\n",
        "print(d1)\n",
        "print(d2)"
      ],
      "metadata": {
        "colab": {
          "base_uri": "https://localhost:8080/"
        },
        "id": "jqNTQ2eq4Hwz",
        "outputId": "06cebb8f-3074-43a0-a7f9-2d5b04ab8a1e"
      },
      "execution_count": 42,
      "outputs": [
        {
          "output_type": "stream",
          "name": "stdout",
          "text": [
            "2020-01-01 00:00:00\n",
            "2020-01-04 16:00:00\n"
          ]
        }
      ]
    },
    {
      "cell_type": "code",
      "source": [
        "dates_list = []\n",
        "\n",
        "while d1 <= d2:\n",
        "  date = d1\n",
        "  dates_list.append(date)\n",
        "  d1 += datetime.timedelta(hours=8)"
      ],
      "metadata": {
        "id": "iqg94Zik4Vrz"
      },
      "execution_count": 43,
      "outputs": []
    },
    {
      "cell_type": "code",
      "source": [
        "for i in dates_list:\n",
        "  print(i)"
      ],
      "metadata": {
        "colab": {
          "base_uri": "https://localhost:8080/"
        },
        "id": "JD2h1fnG4u3r",
        "outputId": "42188718-f25a-4ec9-cdc8-adeb9716e6f4"
      },
      "execution_count": 44,
      "outputs": [
        {
          "output_type": "stream",
          "name": "stdout",
          "text": [
            "2020-01-01 00:00:00\n",
            "2020-01-01 08:00:00\n",
            "2020-01-01 16:00:00\n",
            "2020-01-02 00:00:00\n",
            "2020-01-02 08:00:00\n",
            "2020-01-02 16:00:00\n",
            "2020-01-03 00:00:00\n",
            "2020-01-03 08:00:00\n",
            "2020-01-03 16:00:00\n",
            "2020-01-04 00:00:00\n",
            "2020-01-04 08:00:00\n",
            "2020-01-04 16:00:00\n"
          ]
        }
      ]
    },
    {
      "cell_type": "markdown",
      "source": [
        "## Exercise 12\n",
        "\n",
        "Future Value Investment of the investment of USD 1000 and an annual interest rate of 4% and daily compound capitalisation of interest, assuming the duration of the investment from \"2021-07-01\" to \"2021-12-31\". For calculations assumed the year has 365 days.\n",
        "\n",
        "**Expected Result**\n",
        "- \"Future value: $1020.26\""
      ],
      "metadata": {
        "id": "4uJWKIDj-R8q"
      }
    },
    {
      "cell_type": "code",
      "source": [
        "import datetime"
      ],
      "metadata": {
        "id": "9lOkw_pF-0Z-"
      },
      "execution_count": 46,
      "outputs": []
    },
    {
      "cell_type": "code",
      "source": [
        "present_value = 1000\n",
        "annual_rate = 0.4"
      ],
      "metadata": {
        "id": "bMjNlo6G4xIr"
      },
      "execution_count": 55,
      "outputs": []
    },
    {
      "cell_type": "code",
      "source": [
        "daily_rate = annual_rate / 365\n",
        "print(daily_rate)"
      ],
      "metadata": {
        "colab": {
          "base_uri": "https://localhost:8080/"
        },
        "id": "6s8w2rEJ-zDx",
        "outputId": "a7c8e77e-1448-4ee3-aa10-c0a6a84f7f77"
      },
      "execution_count": 56,
      "outputs": [
        {
          "output_type": "stream",
          "name": "stdout",
          "text": [
            "0.0010958904109589042\n"
          ]
        }
      ]
    },
    {
      "cell_type": "code",
      "source": [
        "d1 = datetime.date(2021, 7, 1)\n",
        "d2 = datetime.date(2021, 12, 31)"
      ],
      "metadata": {
        "id": "3TPMPdef-94Z"
      },
      "execution_count": 57,
      "outputs": []
    },
    {
      "cell_type": "code",
      "source": [
        "duration = d2 - d1\n",
        "print(duration.days)"
      ],
      "metadata": {
        "colab": {
          "base_uri": "https://localhost:8080/"
        },
        "id": "JLHWuoVz_vW4",
        "outputId": "857181f5-97b3-422d-8553-1a566a082a16"
      },
      "execution_count": 58,
      "outputs": [
        {
          "output_type": "stream",
          "name": "stdout",
          "text": [
            "183\n"
          ]
        }
      ]
    },
    {
      "cell_type": "code",
      "source": [
        "fv = present_value * (1 + daily_rate) ** duration.days\n",
        "print(f\"Future value: ${fv:0.2f}\")"
      ],
      "metadata": {
        "colab": {
          "base_uri": "https://localhost:8080/"
        },
        "id": "fXQUr5DB_x9I",
        "outputId": "040e0c69-7c0d-4b01-cb4a-4c730545090f"
      },
      "execution_count": 59,
      "outputs": [
        {
          "output_type": "stream",
          "name": "stdout",
          "text": [
            "Future value: $1221.94\n"
          ]
        }
      ]
    },
    {
      "cell_type": "code",
      "source": [
        ""
      ],
      "metadata": {
        "id": "FNuJkdPg_8yI"
      },
      "execution_count": null,
      "outputs": []
    }
  ]
}