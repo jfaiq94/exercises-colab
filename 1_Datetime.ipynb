{
  "nbformat": 4,
  "nbformat_minor": 0,
  "metadata": {
    "colab": {
      "name": "1 - Datetime.ipynb",
      "provenance": [],
      "authorship_tag": "ABX9TyPC6EuNM5KlF1ZipYhQ67sG",
      "include_colab_link": true
    },
    "kernelspec": {
      "name": "python3",
      "display_name": "Python 3"
    },
    "language_info": {
      "name": "python"
    }
  },
  "cells": [
    {
      "cell_type": "markdown",
      "metadata": {
        "id": "view-in-github",
        "colab_type": "text"
      },
      "source": [
        "<a href=\"https://colab.research.google.com/github/jfaiq94/exercises-colab/blob/main/1_Datetime.ipynb\" target=\"_parent\"><img src=\"https://colab.research.google.com/assets/colab-badge.svg\" alt=\"Open In Colab\"/></a>"
      ]
    },
    {
      "cell_type": "markdown",
      "source": [
        "# Exercise 1\n",
        "\n",
        "Using the built-in datetime module, create date object for the given dates:\n",
        "\n",
        "* 2021-01-01\n",
        "* 31/7/21\n",
        "* May 7, 1990\n",
        "\n",
        "Then print these objects to the console.\n",
        "\n",
        "**Tip**:\n",
        "\n",
        " help(datetime.date)\n",
        "\n",
        "Help on class date in module datetime:\n",
        "\n",
        "class date(builtins.object)\n",
        "  date(year, month, day) --> date object\n",
        "\n",
        "**Expected Results:**\n",
        "\n",
        "* 2021-01-01\n",
        "* 2021-07-31\n",
        "* 1990-05-07\n",
        "\n"
      ],
      "metadata": {
        "id": "Fvh5NgSvgTMb"
      }
    },
    {
      "cell_type": "code",
      "source": [
        "import datetime"
      ],
      "metadata": {
        "id": "MQU28nczg_Kh"
      },
      "execution_count": 1,
      "outputs": []
    },
    {
      "cell_type": "code",
      "source": [
        "d1 = datetime.date(2021, 1, 1)\n",
        "d2 = datetime.date(2021, 7, 31)\n",
        "d3 = datetime.date(1990, 5, 7)"
      ],
      "metadata": {
        "id": "niYZZyiOhOqk"
      },
      "execution_count": 4,
      "outputs": []
    },
    {
      "cell_type": "code",
      "source": [
        "print(d1)\n",
        "print(d2)\n",
        "print(d3)"
      ],
      "metadata": {
        "colab": {
          "base_uri": "https://localhost:8080/"
        },
        "id": "T9ODsQpbhli7",
        "outputId": "009c9189-a6e9-4c3b-871d-4ba95b7880e3"
      },
      "execution_count": 5,
      "outputs": [
        {
          "output_type": "stream",
          "name": "stdout",
          "text": [
            "2021-01-01\n",
            "2021-07-31\n",
            "1990-05-07\n"
          ]
        }
      ]
    },
    {
      "cell_type": "code",
      "source": [
        ""
      ],
      "metadata": {
        "id": "itQBC4-6hmbi"
      },
      "execution_count": null,
      "outputs": []
    }
  ]
}